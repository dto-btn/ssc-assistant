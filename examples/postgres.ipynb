{
 "cells": [
  {
   "cell_type": "code",
   "execution_count": null,
   "metadata": {},
   "outputs": [
    {
     "name": "stdout",
     "output_type": "stream",
     "text": [
      "(1, 100, 'abc')\n",
      "(2, 100, 'abc')\n",
      "(3, 100, 'abc')\n",
      "(4, 100, 'abc')\n",
      "(5, 100, 'abc')\n",
      "(6, 100, 'abc')\n"
     ]
    }
   ],
   "source": [
    "from dotenv import load_dotenv\n",
    "import psycopg2\n",
    "import os\n",
    "\n",
    "load_dotenv()\n",
    "\n",
    "PGHOST=os.environ.get(\"PGHOST\")\n",
    "PGUSER=os.environ.get(\"PGUSER\")\n",
    "PGPORT=os.environ.get(\"PGPORT\")\n",
    "PGDATABASE=os.environ.get(\"PGDATABASE\")\n",
    "PGPASSWORD=os.environ.get(\"PGPASSWORD\")\n",
    "\n",
    "cnx = psycopg2.connect(\n",
    "    user=PGUSER, \n",
    "    password=PGPASSWORD, \n",
    "    host=PGHOST, \n",
    "    port=PGPORT, \n",
    "    database=PGDATABASE\n",
    ")\n",
    "\n",
    "# select all rows from the table\n",
    "cursor = cnx.cursor()\n",
    "cursor.execute(\"CREATE TABLE IF NOT EXISTS test (id serial PRIMARY KEY, num integer, data varchar);\")\n",
    "cursor.execute(\"INSERT INTO test (num, data) VALUES (100, 'abc');\")\n",
    "cnx.commit()\n",
    "cursor.execute(\"SELECT * FROM test;\")\n",
    "rows = cursor.fetchall()\n",
    "for row in rows:\n",
    "    print(row)"
   ]
  }
 ],
 "metadata": {
  "kernelspec": {
   "display_name": "ssc-assistant",
   "language": "python",
   "name": "python3"
  },
  "language_info": {
   "codemirror_mode": {
    "name": "ipython",
    "version": 3
   },
   "file_extension": ".py",
   "mimetype": "text/x-python",
   "name": "python",
   "nbconvert_exporter": "python",
   "pygments_lexer": "ipython3",
   "version": "3.12.8"
  }
 },
 "nbformat": 4,
 "nbformat_minor": 2
}
