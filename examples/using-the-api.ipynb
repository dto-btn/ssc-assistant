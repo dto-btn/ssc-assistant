{
 "cells": [
  {
   "cell_type": "markdown",
   "metadata": {},
   "source": [
    "# Using the SSC Assistant API\n",
    "\n",
    "This will demonstrate how to use the SSC Assistant API using your given API token and a user Access token (oauth2)."
   ]
  },
  {
   "cell_type": "code",
   "execution_count": 2,
   "metadata": {},
   "outputs": [
    {
     "name": "stdout",
     "output_type": "stream",
     "text": [
      "api://5e945d23-48d9-4929-b1a1-93a9ca58f8aa/.default\n",
      "No suitable token exists in cache. Let's get a new one from AAD.\n",
      "{'aud': 'api://5e945d23-48d9-4929-b1a1-93a9ca58f8aa', 'iss': 'https://sts.windows.net/d05bc194-94bf-4ad6-ae2e-1db0f2e38f5e/', 'iat': 1737055874, 'nbf': 1737055874, 'exp': 1737059774, 'aio': 'k2RgYBBOCLzIpLK0zC/YYO6W+RaTAQ==', 'appid': 'fa97a723-f604-438b-8bd6-06543065f6a9', 'appidacr': '1', 'idp': 'https://sts.windows.net/d05bc194-94bf-4ad6-ae2e-1db0f2e38f5e/', 'oid': '5605426c-1531-4da5-b6b6-2413d57a1446', 'rh': '1.ASkAlMFb0L-U1kquLh2w8uOPXiNdlF7ZSClJsaGTqcpY-Kr4AAApAA.', 'sub': '5605426c-1531-4da5-b6b6-2413d57a1446', 'tid': 'd05bc194-94bf-4ad6-ae2e-1db0f2e38f5e', 'uti': 'QK5lE0XXOUC0QkWbUw6tAA', 'ver': '1.0'}\n"
     ]
    }
   ],
   "source": [
    "import os\n",
    "\n",
    "import jwt\n",
    "import msal\n",
    "import requests\n",
    "from dotenv import load_dotenv\n",
    "\n",
    "load_dotenv()\n",
    "\n",
    "api_endpoint = os.getenv(\"API_ENDPOINT\")\n",
    "api_scope = os.getenv(\"API_SCOPE\")\n",
    "\n",
    "print(api_scope)\n",
    "\n",
    "app_id = os.getenv(\"APP_ID\")\n",
    "app_secret = os.getenv(\"APP_SECRET\")\n",
    "tenant_id = os.getenv(\"TENANT_ID\")\n",
    "\n",
    "app = msal.ConfidentialClientApplication(\n",
    "    app_id, authority=f\"https://login.microsoftonline.com/{tenant_id}\",\n",
    "    client_credential=app_secret)\n",
    "\n",
    "result = None\n",
    "result = app.acquire_token_silent(scopes=[api_scope], account=None)\n",
    "\n",
    "if not result:\n",
    "    print(\"No suitable token exists in cache. Let's get a new one from AAD.\")\n",
    "    result = app.acquire_token_for_client(scopes=[api_scope])\n",
    "\n",
    "if result and \"access_token\" in result:\n",
    "    access_token = result['access_token']\n",
    "    decoded_token = jwt.decode(access_token, options={\"verify_signature\": False})\n",
    "    print(decoded_token)\n",
    "else:\n",
    "    print(\"oops, no token\", result)"
   ]
  },
  {
   "cell_type": "markdown",
   "metadata": {},
   "source": [
    "## Security\n",
    "\n",
    "API Is secured and need two different token in order to access it, first an API token (see below) and a user access token (provided by microsoft idp)\n",
    "\n",
    "Once we have the access_token we simply make a simple call to the SSC Assistant API to ask a one-of question.\n",
    "\n",
    "### API Token\n",
    "\n",
    "To do so we need to ensure we have a valid user (above) and a valid token to send in the `X-API-Key` header as part of the `POST` request.\n",
    "\n",
    "Such token can be crafted for testing as bellow:\n",
    "\n",
    "**NOTE:** If you are not part of the dev team and you require a real token please contact the SSC Assistant team.\n",
    "\n",
    "### Confidential Client Application access token\n",
    "\n",
    "Normally the api relies on User access token, in this case for having 3rd parties access the API they (the application(s) in question) need to be granted the permission to request that scope.\n",
    "\n",
    "Example of an `az cli` that does such thing\n",
    "\n",
    "```bash\n",
    "az ad app permission add --id <your-app-id> --api <api-app-id> --api-permission <scope-uuid>=Scope\n",
    "az ad app permission grant --id <your-app-id> --api <api-app-id> --scope api.access\n",
    "```"
   ]
  },
  {
   "cell_type": "code",
   "execution_count": 2,
   "metadata": {},
   "outputs": [
    {
     "ename": "NameError",
     "evalue": "name 'access_token' is not defined",
     "output_type": "error",
     "traceback": [
      "\u001b[0;31m---------------------------------------------------------------------------\u001b[0m",
      "\u001b[0;31mNameError\u001b[0m                                 Traceback (most recent call last)",
      "Cell \u001b[0;32mIn[2], line 8\u001b[0m\n\u001b[1;32m      2\u001b[0m api_token \u001b[38;5;241m=\u001b[39m jwt\u001b[38;5;241m.\u001b[39mencode({\u001b[38;5;124m'\u001b[39m\u001b[38;5;124mroles\u001b[39m\u001b[38;5;124m'\u001b[39m: [\u001b[38;5;124m'\u001b[39m\u001b[38;5;124mmysscplus\u001b[39m\u001b[38;5;124m'\u001b[39m,]}, \u001b[38;5;124m'\u001b[39m\u001b[38;5;124msecret\u001b[39m\u001b[38;5;124m'\u001b[39m, algorithm\u001b[38;5;241m=\u001b[39m\u001b[38;5;124m'\u001b[39m\u001b[38;5;124mHS256\u001b[39m\u001b[38;5;124m'\u001b[39m)\n\u001b[1;32m      4\u001b[0m question \u001b[38;5;241m=\u001b[39m {\n\u001b[1;32m      5\u001b[0m   \u001b[38;5;124m\"\u001b[39m\u001b[38;5;124mquery\u001b[39m\u001b[38;5;124m\"\u001b[39m: \u001b[38;5;124m\"\u001b[39m\u001b[38;5;124mWho is the president of SSC?\u001b[39m\u001b[38;5;124m\"\u001b[39m,\n\u001b[1;32m      6\u001b[0m }\n\u001b[0;32m----> 8\u001b[0m response \u001b[38;5;241m=\u001b[39m requests\u001b[38;5;241m.\u001b[39mpost(\u001b[38;5;28mstr\u001b[39m(api_endpoint) \u001b[38;5;241m+\u001b[39m \u001b[38;5;124m\"\u001b[39m\u001b[38;5;124m/api/1.0/mysscplus/suggest\u001b[39m\u001b[38;5;124m\"\u001b[39m, headers\u001b[38;5;241m=\u001b[39m{\u001b[38;5;124m'\u001b[39m\u001b[38;5;124mAuthorization\u001b[39m\u001b[38;5;124m'\u001b[39m: \u001b[38;5;124mf\u001b[39m\u001b[38;5;124m'\u001b[39m\u001b[38;5;124mBearer \u001b[39m\u001b[38;5;132;01m{\u001b[39;00m\u001b[43maccess_token\u001b[49m\u001b[38;5;132;01m}\u001b[39;00m\u001b[38;5;124m'\u001b[39m, \u001b[38;5;124m'\u001b[39m\u001b[38;5;124mX-API-Key\u001b[39m\u001b[38;5;124m'\u001b[39m: api_token}, json\u001b[38;5;241m=\u001b[39mquestion)\n\u001b[1;32m     10\u001b[0m \u001b[38;5;28;01mif\u001b[39;00m response\u001b[38;5;241m.\u001b[39mstatus_code \u001b[38;5;241m==\u001b[39m \u001b[38;5;241m200\u001b[39m:\n\u001b[1;32m     11\u001b[0m     \u001b[38;5;28mprint\u001b[39m(response\u001b[38;5;241m.\u001b[39mjson())\n",
      "\u001b[0;31mNameError\u001b[0m: name 'access_token' is not defined"
     ]
    }
   ],
   "source": [
    "import jwt\n",
    "api_token = jwt.encode({'roles': ['mysscplus',]}, 'secret', algorithm='HS256')\n",
    "\n",
    "question = {\n",
    "  \"query\": \"Who is the president of SSC?\",\n",
    "}\n",
    "\n",
    "response = requests.post(str(api_endpoint) + \"/api/1.0/mysscplus/suggest\", headers={'Authorization': f'Bearer {access_token}', 'X-API-Key': api_token}, json=question)\n",
    "\n",
    "if response.status_code == 200:\n",
    "    print(response.json())\n",
    "else:\n",
    "    print(\"Error: \", response.text)"
   ]
  }
 ],
 "metadata": {
  "kernelspec": {
   "display_name": ".venv_api",
   "language": "python",
   "name": "python3"
  },
  "language_info": {
   "codemirror_mode": {
    "name": "ipython",
    "version": 3
   },
   "file_extension": ".py",
   "mimetype": "text/x-python",
   "name": "python",
   "nbconvert_exporter": "python",
   "pygments_lexer": "ipython3",
   "version": "3.11.7"
  }
 },
 "nbformat": 4,
 "nbformat_minor": 2
}
