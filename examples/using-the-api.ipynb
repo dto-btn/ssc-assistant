{
 "cells": [
  {
   "cell_type": "markdown",
   "metadata": {},
   "source": [
    "# Using the SSC Assistant API\n",
    "\n",
    "This will demonstrate how to use the SSC Assistant API using your given API token and a user Access token (oauth2)."
   ]
  },
  {
   "cell_type": "code",
   "execution_count": null,
   "metadata": {},
   "outputs": [],
   "source": [
    "import os\n",
    "\n",
    "import jwt\n",
    "import msal\n",
    "import requests\n",
    "from dotenv import load_dotenv\n",
    "\n",
    "load_dotenv()\n",
    "\n",
    "api_endpoint = os.getenv(\"API_ENDPOINT\")\n",
    "api_scope = os.getenv(\"API_SCOPE\")\n",
    "\n",
    "print(api_scope)\n",
    "\n",
    "app_id = os.getenv(\"APP_ID\")\n",
    "app_secret = os.getenv(\"APP_SECRET\")\n",
    "tenant_id = os.getenv(\"TENANT_ID\")\n",
    "\n",
    "app = msal.ConfidentialClientApplication(\n",
    "    app_id, authority=f\"https://login.microsoftonline.com/{tenant_id}\",\n",
    "    client_credential=app_secret)\n",
    "\n",
    "result = app.acquire_token_for_client(scopes=[api_scope])\n",
    "\n",
    "if result and \"access_token\" in result:\n",
    "    access_token = result['access_token']\n",
    "    decoded_token = jwt.decode(access_token, options={\"verify_signature\": False})\n",
    "    print(decoded_token)\n",
    "else:\n",
    "    print(\"oops, no token\", result)"
   ]
  },
  {
   "cell_type": "markdown",
   "metadata": {},
   "source": [
    "## Security\n",
    "\n",
    "API Is secured and need two different token in order to access it, first an API token (see below) and a user access token (provided by microsoft idp)\n",
    "\n",
    "Once we have the access_token we simply make a simple call to the SSC Assistant API to ask a one-of question.\n",
    "\n",
    "### API Token\n",
    "\n",
    "To do so we need to ensure we have a valid user (above) and a valid token to send in the `X-API-Key` header as part of the `POST` request.\n",
    "\n",
    "Such token can be crafted for testing as bellow:\n",
    "\n",
    "**NOTE:** If you are not part of the dev team and you require a real token please contact the SSC Assistant team.\n",
    "\n",
    "### Confidential Client Application access token\n",
    "\n",
    "Normally the api relies on User access token, in this case for having 3rd parties access the API they (the application(s) in question) need to be granted the permission to request that scope.\n",
    "\n",
    "Example of an `az cli` that does such thing\n",
    "\n",
    "```bash\n",
    "az ad app permission add --id <your-app-id> --api <api-app-id> --api-permission <scope-uuid>=Scope\n",
    "az ad app permission grant --id <your-app-id> --api <api-app-id> --scope api.access\n",
    "```\n",
    "\n",
    "### Extra documentation for the setup of the application scope\n",
    "\n",
    "* https://stackoverflow.com/questions/77552241/getting-token-but-not-scope-inside-that-token-using-msal-code\n",
    "* https://learn.microsoft.com/en-us/entra/identity-platform/quickstart-configure-app-access-web-apis"
   ]
  },
  {
   "cell_type": "code",
   "execution_count": null,
   "metadata": {},
   "outputs": [],
   "source": [
    "import jwt\n",
    "api_token = jwt.encode({'roles': ['mysscplus',]}, 'secret', algorithm='HS256')\n",
    "\n",
    "question = {\n",
    "  \"query\": \"Who is the president of SSC?\",\n",
    "}\n",
    "\n",
    "response = requests.post(str(api_endpoint) + \"/api/1.0/mysscplus/suggest\", headers={'Authorization': f'Bearer {access_token}', 'X-API-Key': api_token}, json=question)\n",
    "\n",
    "if response.status_code == 200:\n",
    "    print(response.json())\n",
    "else:\n",
    "    print(\"Error: \", response.text)"
   ]
  }
 ],
 "metadata": {
  "kernelspec": {
   "display_name": ".venv",
   "language": "python",
   "name": "python3"
  },
  "language_info": {
   "codemirror_mode": {
    "name": "ipython",
    "version": 3
   },
   "file_extension": ".py",
   "mimetype": "text/x-python",
   "name": "python",
   "nbconvert_exporter": "python",
   "pygments_lexer": "ipython3",
   "version": "3.12.8"
  }
 },
 "nbformat": 4,
 "nbformat_minor": 2
}
