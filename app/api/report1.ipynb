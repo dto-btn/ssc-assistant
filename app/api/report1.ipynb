{
 "cells": [
  {
   "cell_type": "code",
   "execution_count": 9,
   "metadata": {},
   "outputs": [
    {
     "name": "stdout",
     "output_type": "stream",
     "text": [
      "/home/monarch/workspace/ssc-assistant/app/api\n"
     ]
    }
   ],
   "source": [
    "import os\n",
    "print(os.getcwd())"
   ]
  },
  {
   "cell_type": "code",
   "execution_count": 10,
   "metadata": {},
   "outputs": [
    {
     "data": {
      "text/plain": [
       "True"
      ]
     },
     "execution_count": 10,
     "metadata": {},
     "output_type": "execute_result"
    }
   ],
   "source": [
    "from azure.identity import DefaultAzureCredential\n",
    "import dotenv\n",
    "\n",
    "# from src.repository.conversation_repository import ConversationRepository\n",
    "from src.repository.conversation_repository import ConversationRepository\n",
    "\n",
    "dotenv.load_dotenv()"
   ]
  },
  {
   "cell_type": "code",
   "execution_count": 11,
   "metadata": {},
   "outputs": [],
   "source": [
    "from datetime import datetime\n",
    "from typing import override\n",
    "import os\n",
    "\n",
    "from azure.data.tables import TableServiceClient\n",
    "\n",
    "import json\n",
    "from src.dao.chat_table_dao import ChatTableDaoImpl\n",
    "from src.entity.table_row_entity import (\n",
    "    ChatTableRow,\n",
    ")\n",
    "\n",
    "# get dir of this file\n",
    "\n",
    "dir_path = os.getcwd()\n",
    "\n",
    "\n",
    "class DiskCachingChatTableDaoImpl(ChatTableDaoImpl):\n",
    "    \"\"\"\n",
    "    This class is a ChatTableDaoImpl that caches the results of the `all` method to disk\n",
    "    in a JSON file. This is useful for development purposes, as it allows us to avoid\n",
    "    making repeated requests to the Azure Table Storage service.\n",
    "    \"\"\"\n",
    "\n",
    "    def __init__(\n",
    "        self,\n",
    "        table_service_client: TableServiceClient,\n",
    "        # but from dir of this file\n",
    "        cache_filepath: str = os.path.join(\n",
    "            dir_path, \"./.cache/chat_table_cache.global.json\"\n",
    "        ),\n",
    "    ):\n",
    "        super().__init__(table_service_client)\n",
    "        self.cache: list[ChatTableRow] = []\n",
    "        self.cache_filepath = cache_filepath\n",
    "\n",
    "    @override\n",
    "    def all(self) -> list[ChatTableRow]:\n",
    "        # try and get pickle\n",
    "        if len(self.cache) == 0:\n",
    "            try:\n",
    "                # create path if not exist\n",
    "                os.makedirs(os.path.dirname(self.cache_filepath), exist_ok=True)\n",
    "                with open(self.cache_filepath, \"r\") as f:\n",
    "                    json_content = json.load(f)\n",
    "                    # convert all timestamps to datetime\n",
    "                    for row in json_content:\n",
    "                        timestamp_str = row[\"metadata\"][\"timestamp\"]\n",
    "                        if timestamp_str is not None:\n",
    "                            row[\"metadata\"][\"timestamp\"] = datetime.fromisoformat(\n",
    "                                timestamp_str\n",
    "                            )\n",
    "                    self.cache = json_content\n",
    "            except FileNotFoundError:\n",
    "                self.cache = []\n",
    "\n",
    "        # if cache is still empty, get from super\n",
    "        if len(self.cache) == 0:\n",
    "            self.cache = super().all()\n",
    "            # also save to disk.\n",
    "            with open(self.cache_filepath, \"w\") as f:\n",
    "                # json.dump(self.cache, f)\n",
    "                json.dump(\n",
    "                    self.cache,\n",
    "                    f,\n",
    "                    default=lambda o: o.isoformat()\n",
    "                    if isinstance(o, datetime)\n",
    "                    else o.__dict__,\n",
    "                )\n",
    "\n",
    "        return self.cache\n"
   ]
  },
  {
   "cell_type": "code",
   "execution_count": 12,
   "metadata": {},
   "outputs": [],
   "source": [
    "\n",
    "# Get conversations\n",
    "from src.service.stats_report_service import StatsReportService\n",
    "\n",
    "\n",
    "credential = DefaultAzureCredential()\n",
    "table_service_client = TableServiceClient(endpoint=os.getenv(\"DATABASE_ENDPOINT\") or \"\", credential=credential)\n",
    "chat_table_dao = DiskCachingChatTableDaoImpl(table_service_client)\n",
    "conversation_repo = ConversationRepository(chat_table_dao)\n",
    "conversations = conversation_repo.list_conversations()\n",
    "stats_reporting_service = StatsReportService(conversation_repo)"
   ]
  },
  {
   "cell_type": "code",
   "execution_count": 13,
   "metadata": {},
   "outputs": [
    {
     "name": "stdout",
     "output_type": "stream",
     "text": [
      "[{'month_label': 'Jan 2025', 'month_start_iso_date': '2025-01-01T00:00:00Z', 'month_end_iso_date': '2025-01-16T23:59:59Z', 'active_users': 5, 'total_questions_asked': 118, 'average_questions_asked_per_day': 7.38, 'average_questions_per_user': 23.6}, {'month_label': 'Dec 2024', 'month_start_iso_date': '2024-12-01T00:00:00Z', 'month_end_iso_date': '2024-12-31T23:59:59Z', 'active_users': 3, 'total_questions_asked': 67, 'average_questions_asked_per_day': 2.16, 'average_questions_per_user': 22.33}, {'month_label': 'Nov 2024', 'month_start_iso_date': '2024-11-01T00:00:00Z', 'month_end_iso_date': '2024-11-30T23:59:59Z', 'active_users': 3, 'total_questions_asked': 91, 'average_questions_asked_per_day': 3.03, 'average_questions_per_user': 30.33}, {'month_label': 'Oct 2024', 'month_start_iso_date': '2024-10-01T00:00:00Z', 'month_end_iso_date': '2024-10-31T23:59:59Z', 'active_users': 2, 'total_questions_asked': 187, 'average_questions_asked_per_day': 6.03, 'average_questions_per_user': 93.5}, {'month_label': 'Sep 2024', 'month_start_iso_date': '2024-09-01T00:00:00Z', 'month_end_iso_date': '2024-09-30T23:59:59Z', 'active_users': 2, 'total_questions_asked': 226, 'average_questions_asked_per_day': 7.53, 'average_questions_per_user': 113.0}, {'month_label': 'Aug 2024', 'month_start_iso_date': '2024-08-01T00:00:00Z', 'month_end_iso_date': '2024-08-31T23:59:59Z', 'active_users': 2, 'total_questions_asked': 867, 'average_questions_asked_per_day': 27.97, 'average_questions_per_user': 433.5}, {'month_label': 'Jul 2024', 'month_start_iso_date': '2024-07-01T00:00:00Z', 'month_end_iso_date': '2024-07-31T23:59:59Z', 'active_users': 2, 'total_questions_asked': 262, 'average_questions_asked_per_day': 8.45, 'average_questions_per_user': 131.0}, {'month_label': 'Jun 2024', 'month_start_iso_date': '2024-06-01T00:00:00Z', 'month_end_iso_date': '2024-06-30T23:59:59Z', 'active_users': 1, 'total_questions_asked': 35, 'average_questions_asked_per_day': 1.17, 'average_questions_per_user': 35.0}, {'month_label': 'May 2024', 'month_start_iso_date': '2024-05-01T00:00:00Z', 'month_end_iso_date': '2024-05-31T23:59:59Z', 'active_users': 1, 'total_questions_asked': 123, 'average_questions_asked_per_day': 3.97, 'average_questions_per_user': 123.0}]\n",
      "Month           Active users    Total Questions Asked     Average questions asked per day     Average questions per user\n",
      "Jan 2025        5               118                       7.38                                23.6                     \n",
      "Dec 2024        3               67                        2.16                                22.33                    \n",
      "Nov 2024        3               91                        3.03                                30.33                    \n",
      "Oct 2024        2               187                       6.03                                93.5                     \n",
      "Sep 2024        2               226                       7.53                                113.0                    \n",
      "Aug 2024        2               867                       27.97                               433.5                    \n",
      "Jul 2024        2               262                       8.45                                131.0                    \n",
      "Jun 2024        1               35                        1.17                                35.0                     \n",
      "May 2024        1               123                       3.97                                123.0                    \n"
     ]
    }
   ],
   "source": [
    "report = stats_reporting_service.get_statistics_by_month_of_year()\n",
    "print(report)\n",
    "\n",
    "headers = [\"Month\", \"Active users\", \"Total Questions Asked\", \"Average questions asked per day\", \"Average questions per user\"]\n",
    "header_format = \"{:<15} {:<15} {:<25} {:<35} {:<25}\"\n",
    "row_format = \"{:<15} {:<15} {:<25} {:<35} {:<25}\"\n",
    "\n",
    "print(header_format.format(*headers))\n",
    "\n",
    "for stats in report:\n",
    "    month = stats[\"month_label\"]\n",
    "    print(row_format.format(\n",
    "        month, \n",
    "        stats[\"active_users\"],\n",
    "        stats[\"total_questions_asked\"],\n",
    "        stats[\"average_questions_asked_per_day\"],\n",
    "        stats[\"average_questions_per_user\"])\n",
    "    )"
   ]
  },
  {
   "cell_type": "code",
   "execution_count": 14,
   "metadata": {},
   "outputs": [
    {
     "name": "stdout",
     "output_type": "stream",
     "text": [
      "Day of week     Total Questions Asked     Average questions asked per day     Average questions per user\n"
     ]
    },
    {
     "ename": "NameError",
     "evalue": "name 'date_ranges' is not defined",
     "output_type": "error",
     "traceback": [
      "\u001b[0;31m---------------------------------------------------------------------------\u001b[0m",
      "\u001b[0;31mNameError\u001b[0m                                 Traceback (most recent call last)",
      "Cell \u001b[0;32mIn[14], line 40\u001b[0m\n\u001b[1;32m     37\u001b[0m         \u001b[38;5;28;01mif\u001b[39;00m message[\u001b[38;5;124m\"\u001b[39m\u001b[38;5;124msender\u001b[39m\u001b[38;5;124m\"\u001b[39m] \u001b[38;5;241m==\u001b[39m \u001b[38;5;124m\"\u001b[39m\u001b[38;5;124muser\u001b[39m\u001b[38;5;124m\"\u001b[39m \u001b[38;5;129;01mand\u001b[39;00m datetime\u001b[38;5;241m.\u001b[39mfromisoformat(message[\u001b[38;5;124m\"\u001b[39m\u001b[38;5;124mcreated_at\u001b[39m\u001b[38;5;124m\"\u001b[39m])\u001b[38;5;241m.\u001b[39mstrftime(\u001b[38;5;124m\"\u001b[39m\u001b[38;5;124m%\u001b[39m\u001b[38;5;124mA\u001b[39m\u001b[38;5;124m\"\u001b[39m) \u001b[38;5;241m==\u001b[39m day:\n\u001b[1;32m     38\u001b[0m             total_questions_asked \u001b[38;5;241m+\u001b[39m\u001b[38;5;241m=\u001b[39m \u001b[38;5;241m1\u001b[39m\n\u001b[0;32m---> 40\u001b[0m average_questions_per_day \u001b[38;5;241m=\u001b[39m total_questions_asked \u001b[38;5;241m/\u001b[39m \u001b[38;5;28mlen\u001b[39m(\u001b[43mdate_ranges\u001b[49m)\n\u001b[1;32m     41\u001b[0m average_questions_per_user \u001b[38;5;241m=\u001b[39m total_questions_asked \u001b[38;5;241m/\u001b[39m active_users_count \u001b[38;5;28;01mif\u001b[39;00m active_users_count \u001b[38;5;241m>\u001b[39m \u001b[38;5;241m0\u001b[39m \u001b[38;5;28;01melse\u001b[39;00m \u001b[38;5;241m0\u001b[39m\n\u001b[1;32m     43\u001b[0m \u001b[38;5;28mprint\u001b[39m(row_format\u001b[38;5;241m.\u001b[39mformat(\n\u001b[1;32m     44\u001b[0m     day,\n\u001b[1;32m     45\u001b[0m     total_questions_asked,\n\u001b[1;32m     46\u001b[0m     \u001b[38;5;124mf\u001b[39m\u001b[38;5;124m\"\u001b[39m\u001b[38;5;132;01m{\u001b[39;00maverage_questions_per_day\u001b[38;5;132;01m:\u001b[39;00m\u001b[38;5;124m.2f\u001b[39m\u001b[38;5;132;01m}\u001b[39;00m\u001b[38;5;124m\"\u001b[39m,\n\u001b[1;32m     47\u001b[0m     \u001b[38;5;124mf\u001b[39m\u001b[38;5;124m\"\u001b[39m\u001b[38;5;132;01m{\u001b[39;00maverage_questions_per_user\u001b[38;5;132;01m:\u001b[39;00m\u001b[38;5;124m.2f\u001b[39m\u001b[38;5;132;01m}\u001b[39;00m\u001b[38;5;124m\"\u001b[39m\n\u001b[1;32m     48\u001b[0m ))\n",
      "\u001b[0;31mNameError\u001b[0m: name 'date_ranges' is not defined"
     ]
    }
   ],
   "source": [
    "# Statistics by day of week\n",
    "headers = [\"Day of week\", \"Total Questions Asked\", \"Average questions asked per day\", \"Average questions per user\"]\n",
    "header_format = \"{:<15} {:<25} {:<35} {:<25}\"\n",
    "row_format = \"{:<15} {:<25} {:<35} {:<25}\"\n",
    "days = [\"Monday\", \"Tuesday\", \"Wednesday\", \"Thursday\", \"Friday\", \"Saturday\", \"Sunday\"]\n",
    "\n",
    "active_users: set[str] = set()\n",
    "for conversation in conversations:\n",
    "    for message in conversation[\"messages\"]:\n",
    "        owner_id = message[\"owner_id\"]\n",
    "        if owner_id is not None:\n",
    "            active_users.add(owner_id)\n",
    "\n",
    "active_users_count = len(active_users)\n",
    "\n",
    "print(header_format.format(*headers))\n",
    "\n",
    "for day in days:\n",
    "    # Total questions asked\n",
    "    total_questions_asked = 0\n",
    "    for conversation in conversations:\n",
    "        for message in conversation[\"messages\"]:\n",
    "            if message[\"sender\"] == \"user\" and datetime.fromisoformat(message[\"created_at\"]).strftime(\"%A\") == day:\n",
    "                total_questions_asked += 1\n",
    "\n",
    "    # Average questions asked per day\n",
    "    total_questions_asked = 0\n",
    "    for conversation in conversations:\n",
    "        for message in conversation[\"messages\"]:\n",
    "            if message[\"sender\"] == \"user\" and datetime.fromisoformat(message[\"created_at\"]).strftime(\"%A\") == day:\n",
    "                total_questions_asked += 1\n",
    "\n",
    "    # Average questions per user\n",
    "    total_questions_asked = 0\n",
    "    for conversation in conversations:\n",
    "        for message in conversation[\"messages\"]:\n",
    "            if message[\"sender\"] == \"user\" and datetime.fromisoformat(message[\"created_at\"]).strftime(\"%A\") == day:\n",
    "                total_questions_asked += 1\n",
    "    \n",
    "    average_questions_per_day = total_questions_asked / len(date_ranges)\n",
    "    average_questions_per_user = total_questions_asked / active_users_count if active_users_count > 0 else 0\n",
    "\n",
    "    print(row_format.format(\n",
    "        day,\n",
    "        total_questions_asked,\n",
    "        f\"{average_questions_per_day:.2f}\",\n",
    "        f\"{average_questions_per_user:.2f}\"\n",
    "    ))\n"
   ]
  },
  {
   "cell_type": "code",
   "execution_count": null,
   "metadata": {},
   "outputs": [],
   "source": [
    "# Statistics by day of month\n",
    "\n",
    "headers = [\"Day of month\", \"Total Questions Asked\", \"Average questions asked per day\", \"Average questions per user\"]\n",
    "header_format = \"{:<15} {:<25} {:<35} {:<25}\"\n",
    "row_format = \"{:<15} {:<25} {:<35} {:<25}\"\n",
    "\n",
    "print(header_format.format(*headers))\n",
    "\n",
    "for day in range(1, 32):\n",
    "    # Total questions asked\n",
    "    total_questions_asked = 0\n",
    "    for conversation in conversations:\n",
    "        for message in conversation[\"messages\"]:\n",
    "            if message[\"sender\"] == \"user\" and datetime.fromisoformat(message[\"created_at\"]).day == day:\n",
    "                total_questions_asked += 1\n",
    "\n",
    "    # Average questions asked per day\n",
    "    total_questions_asked = 0\n",
    "    for conversation in conversations:\n",
    "        for message in conversation[\"messages\"]:\n",
    "            if message[\"sender\"] == \"user\" and datetime.fromisoformat(message[\"created_at\"]).day == day:\n",
    "                total_questions_asked += 1\n",
    "\n",
    "    # Average questions per user\n",
    "    total_questions_asked = 0\n",
    "    for conversation in conversations:\n",
    "        for message in conversation[\"messages\"]:\n",
    "            if message[\"sender\"] == \"user\" and datetime.fromisoformat(message[\"created_at\"]).day == day:\n",
    "                total_questions_asked += 1\n",
    "    \n",
    "    average_questions_per_day = total_questions_asked / len(date_ranges)\n",
    "    average_questions_per_user = total_questions_asked / active_users_count if active_users_count > 0 else 0\n",
    "\n",
    "    print(row_format.format(\n",
    "        day,\n",
    "        total_questions_asked,\n",
    "        f\"{average_questions_per_day:.2f}\",\n",
    "        f\"{average_questions_per_user:.2f}\"\n",
    "    ))"
   ]
  }
 ],
 "metadata": {
  "kernelspec": {
   "display_name": "ssc-assistant",
   "language": "python",
   "name": "python3"
  },
  "language_info": {
   "codemirror_mode": {
    "name": "ipython",
    "version": 3
   },
   "file_extension": ".py",
   "mimetype": "text/x-python",
   "name": "python",
   "nbconvert_exporter": "python",
   "pygments_lexer": "ipython3",
   "version": "3.12.8"
  }
 },
 "nbformat": 4,
 "nbformat_minor": 2
}
